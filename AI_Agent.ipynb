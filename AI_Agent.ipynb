{
  "nbformat": 4,
  "nbformat_minor": 0,
  "metadata": {
    "colab": {
      "provenance": []
    },
    "kernelspec": {
      "name": "python3",
      "display_name": "Python 3"
    },
    "language_info": {
      "name": "python"
    }
  },
  "cells": [
    {
      "cell_type": "markdown",
      "source": [
        "This doc\n",
        "\n",
        "*   shows what is AI Agent ?\n",
        "*   shows why is Agent important ?\n",
        "*   propose using multiple agents as a crew\n",
        "*   build a crew (multiple agents system) for research and writing\n",
        "\n"
      ],
      "metadata": {
        "id": "KOAFETjpD8Ik"
      }
    },
    {
      "cell_type": "markdown",
      "source": [
        "### 1. What is Agent ?\n",
        "\n",
        "When people asks questions (prompts) to ChatGPT, it is the people that asks question. It is the ChatGPT that answers the question.\n",
        "\n",
        "But **Agent** is different.\n",
        "\n",
        "**Agent asks questions and answers the questions by themself.**\n",
        "\n",
        "In addition, **Agent can interact with external world. Agent can use tools**. This allows agent to do more."
      ],
      "metadata": {
        "id": "BMaGItnoECyH"
      }
    },
    {
      "cell_type": "markdown",
      "source": [
        "### 2. Why is Agent important ?\n",
        "\n",
        "It is the 3rd stage for the development of AGI.\n",
        "\n",
        "1. Chatbots, AI with conversational language.  \n",
        "2. Reasoners, human-level problem solving.  \n",
        "3. **Agents, systems that can take actions**.   \n",
        "4. Innovators, AI that can aid in invention.  \n",
        "5. Organizations: AI that can do the work of an organization.  "
      ],
      "metadata": {
        "id": "3fr66_PrFWbU"
      }
    },
    {
      "cell_type": "markdown",
      "source": [
        "### 3. Why not use multiple Agents ?\n",
        "\n",
        "Why not create multiple agents ? No harm.\n",
        "\n",
        "Let each agent do a specific subtask.\n",
        "\n",
        "Let these agents work together to achieve the task."
      ],
      "metadata": {
        "id": "XzqIdZL3G0Ge"
      }
    },
    {
      "cell_type": "markdown",
      "source": [
        "### 4. Let's create multiple Agents to research and write an article!!"
      ],
      "metadata": {
        "id": "o-cvraFlWuiY"
      }
    },
    {
      "cell_type": "code",
      "source": [
        "!pip install -q crewai==0.28.8 crewai_tools==0.1.6 langchain_community==0.0.29"
      ],
      "metadata": {
        "id": "c_jvHMfnV185"
      },
      "execution_count": null,
      "outputs": []
    },
    {
      "cell_type": "code",
      "source": [
        "# Warning control\n",
        "import warnings\n",
        "warnings.filterwarnings('ignore')\n",
        "\n",
        "from crewai import Agent, Task, Crew"
      ],
      "metadata": {
        "id": "27Lz_cl2HOyp"
      },
      "execution_count": null,
      "outputs": []
    },
    {
      "cell_type": "code",
      "source": [
        "from langchain_community.llms import HuggingFaceHub\n",
        "\n",
        "HF_TOKEN_HERE = '<YOUR_HF_TOKEN_HERE>'\n",
        "\n",
        "huggingface = HuggingFaceHub(\n",
        "    repo_id=\"HuggingFaceH4/zephyr-7b-beta\",\n",
        "    huggingfacehub_api_token=HF_TOKEN_HERE,\n",
        "    task=\"text-generation\",\n",
        ")"
      ],
      "metadata": {
        "colab": {
          "base_uri": "https://localhost:8080/"
        },
        "id": "Jav54_Vdgy9A",
        "outputId": "aaeccd41-b8d6-439b-d74b-fe99b6e4f9f3"
      },
      "execution_count": null,
      "outputs": [
        {
          "output_type": "stream",
          "name": "stderr",
          "text": [
            "/usr/local/lib/python3.10/dist-packages/langchain_core/_api/deprecation.py:119: LangChainDeprecationWarning: The class `HuggingFaceHub` was deprecated in LangChain 0.0.21 and will be removed in 0.2.0. Use HuggingFaceEndpoint instead.\n",
            "  warn_deprecated(\n"
          ]
        }
      ]
    },
    {
      "cell_type": "code",
      "source": [
        "## Agent: Planner\n",
        "\n",
        "planner = Agent(\n",
        "    role = 'Content Planner', # LLM performs better in role playing\n",
        "    goal = 'Plan engaging and factually accurate content on {topic}',\n",
        "    backstory = \"You're working on planning a blog article \"\n",
        "                \"about the topic: {topic}. \"\n",
        "                \"You collect information that helps the \"\n",
        "                \"audience learn something \"\n",
        "                \"and make informed decisions. \"\n",
        "                \"Your work is the basis for \"\n",
        "                \"the Content Writer to write an article on this topic.\",\n",
        "    allow_delegation=False,\n",
        "    verbose=True,\n",
        "    llm=huggingface,\n",
        "    max_rpm=1,\n",
        ")"
      ],
      "metadata": {
        "id": "YazEI9UqWjHL"
      },
      "execution_count": null,
      "outputs": []
    },
    {
      "cell_type": "code",
      "source": [
        "## Agent: Writter\n",
        "\n",
        "writer = Agent(\n",
        "    role=\"Content Writer\",\n",
        "    goal=\"Write insightful and factually accurate \"\n",
        "         \"opinion piece about the topic: {topic}\",\n",
        "    backstory=\"You're working on a writing \"\n",
        "              \"a new opinion piece about the topic: {topic}. \"\n",
        "              \"You base your writing on the work of \"\n",
        "              \"the Content Planner, who provides an outline \"\n",
        "              \"and relevant context about the topic. \"\n",
        "              \"You follow the main objectives and \"\n",
        "              \"direction of the outline, \"\n",
        "              \"as provide by the Content Planner. \"\n",
        "              \"You also provide objective and impartial insights \"\n",
        "              \"and back them up with information \"\n",
        "              \"provide by the Content Planner. \"\n",
        "              \"You acknowledge in your opinion piece \"\n",
        "              \"when your statements are opinions \"\n",
        "              \"as opposed to objective statements.\",\n",
        "    allow_delegation=False,\n",
        "    verbose=True,\n",
        "    llm=huggingface,\n",
        "    max_rpm=1,\n",
        ")"
      ],
      "metadata": {
        "id": "cRhgepZCX6go"
      },
      "execution_count": null,
      "outputs": []
    },
    {
      "cell_type": "code",
      "source": [
        "# Agent: Editor\n",
        "\n",
        "editor = Agent(\n",
        "    role=\"Editor\",\n",
        "    goal=\"Edit a given blog post to align with \"\n",
        "         \"the writing style of the organization. \",\n",
        "    backstory=\"You are an editor who receives a blog post \"\n",
        "              \"from the Content Writer. \"\n",
        "              \"Your goal is to review the blog post \"\n",
        "              \"to ensure that it follows journalistic best practices,\"\n",
        "              \"provides balanced viewpoints \"\n",
        "              \"when providing opinions or assertions, \"\n",
        "              \"and also avoids major controversial topics \"\n",
        "              \"or opinions when possible.\",\n",
        "    allow_delegation=False,\n",
        "    verbose=True,\n",
        "    llm=huggingface,\n",
        "    max_rpm=1,\n",
        "    max_retry_limit=3,\n",
        ")"
      ],
      "metadata": {
        "id": "GgLnn9fiYF_m"
      },
      "execution_count": null,
      "outputs": []
    },
    {
      "cell_type": "code",
      "source": [
        "# Create Task for Planner Agent\n",
        "\n",
        "plan = Task(\n",
        "    description=(\n",
        "        \"1. Prioritize the latest trends, key players, \"\n",
        "            \"and noteworthy news on {topic}.\\n\"\n",
        "        \"2. Identify the target audience, considering \"\n",
        "            \"their interests and pain points.\\n\"\n",
        "        \"3. Develop a detailed content outline including \"\n",
        "            \"an introduction, key points, and a call to action.\\n\"\n",
        "        \"4. Include SEO keywords and relevant data or sources.\"\n",
        "    ),\n",
        "    expected_output=\"A comprehensive content plan document \"\n",
        "        \"with an outline, audience analysis, \"\n",
        "        \"SEO keywords, and resources.\",\n",
        "    agent=planner,\n",
        "    max_rpm=1,\n",
        ")"
      ],
      "metadata": {
        "id": "3YpAjm36YGst"
      },
      "execution_count": null,
      "outputs": []
    },
    {
      "cell_type": "code",
      "source": [
        "# Create Task for Writer Agent\n",
        "\n",
        "write = Task(\n",
        "    description=(\n",
        "        \"1. Use the content plan to craft a compelling \"\n",
        "            \"blog post on {topic}.\\n\"\n",
        "        \"2. Incorporate SEO keywords naturally.\\n\"\n",
        "\t\t    \"3. Sections/Subtitles are properly named \"\n",
        "            \"in an engaging manner.\\n\"\n",
        "        \"4. Ensure the post is structured with an \"\n",
        "            \"engaging introduction, insightful body, \"\n",
        "            \"and a summarizing conclusion.\\n\"\n",
        "        \"5. Proofread for grammatical errors and \"\n",
        "            \"alignment with the brand's voice.\\n\"\n",
        "    ),\n",
        "    expected_output=\"A well-written blog post \"\n",
        "        \"in markdown format, ready for publication, \"\n",
        "        \"each section should have 2 or 3 paragraphs.\",\n",
        "    agent=writer,\n",
        "    max_rpm=1,\n",
        ")"
      ],
      "metadata": {
        "id": "BWqm1j3VYHF1"
      },
      "execution_count": null,
      "outputs": []
    },
    {
      "cell_type": "code",
      "source": [
        "# Create Task for Editor Agent\n",
        "edit = Task(\n",
        "    description=(\"Proofread the given blog post for \"\n",
        "                 \"grammatical errors and \"\n",
        "                 \"alignment with the brand's voice.\"),\n",
        "    expected_output=\"A well-written blog post in markdown format, \"\n",
        "                    \"ready for publication, \"\n",
        "                    \"each section should have 2 or 3 paragraphs.\",\n",
        "    agent=editor\n",
        ")"
      ],
      "metadata": {
        "id": "ptbMbklAYR5r"
      },
      "execution_count": null,
      "outputs": []
    },
    {
      "cell_type": "code",
      "source": [
        "# Create a crew\n",
        "crew = Crew(\n",
        "    agents=[planner, writer],\n",
        "    tasks=[plan, write],\n",
        ")"
      ],
      "metadata": {
        "colab": {
          "base_uri": "https://localhost:8080/"
        },
        "id": "hr07yJqJYc36",
        "outputId": "1825b84a-d58d-4d49-fdec-282e577e9f85"
      },
      "execution_count": null,
      "outputs": [
        {
          "output_type": "stream",
          "name": "stderr",
          "text": [
            "WARNING:opentelemetry.trace:Overriding of current TracerProvider is not allowed\n"
          ]
        }
      ]
    },
    {
      "cell_type": "code",
      "source": [
        "result = crew.kickoff(inputs={\"topic\": \"Artificial Intelligence\"})"
      ],
      "metadata": {
        "colab": {
          "base_uri": "https://localhost:8080/"
        },
        "id": "V9v-_jZHY757",
        "outputId": "e0828aa6-9e06-472e-b6c2-56b0c54da2fc"
      },
      "execution_count": null,
      "outputs": [
        {
          "output_type": "stream",
          "name": "stdout",
          "text": [
            "\n",
            "\n",
            "\u001b[1m> Entering new CrewAgentExecutor chain...\u001b[0m\n",
            "\u001b[1m\u001b[92m [INFO]: Max RPM reached, waiting for next minute to start.\u001b[00m\n",
            "\u001b[32;1m\u001b[1;3mYou are Content Planner. You're working on planning a blog article about the topic: Artificial Intelligence. You collect information that helps the audience learn something and make informed decisions. Your work is the basis for the Content Writer to write an article on this topic.\n",
            "Your personal goal is: Plan engaging and factually accurate content on Artificial IntelligenceTo give my best complete final answer to the task use the exact following format:\n",
            "\n",
            "Thought: I now can give a great answer\n",
            "Final Answer: my best complete final answer to the task.\n",
            "Your final answer must be the great and the most complete as possible, it must be outcome described.\n",
            "\n",
            "I MUST use these formats, my job depends on it!\n",
            "Current Task: 1. Prioritize the latest trends, key players, and noteworthy news on Artificial Intelligence.\n",
            "2. Identify the target audience, considering their interests and pain points.\n",
            "3. Develop a detailed content outline including an introduction, key points, and a call to action.\n",
            "4. Include SEO keywords and relevant data or sources.\n",
            "\n",
            "This is the expect criteria for your final answer: A comprehensive content plan document with an outline, audience analysis, SEO keywords, and resources. \n",
            " you MUST return the actual complete content as the final answer, not a summary.\n",
            "\n",
            "Begin! This is VERY important to you, use the tools available and give your best Final Answer, your job depends on it!\n",
            "\n",
            "Thought: \n",
            "\n",
            "Final Answer: As the world continues to evolve, so does technology. One of the most significant advancements in recent years is Artificial Intelligence (AI). AI is transforming various industries, from healthcare to finance, and is expected to have a significant impact on the future of work. In this blog article, we will explore the latest trends, key players, and noteworthy news in the AI industry. We will also identify our target audience, their interests, and pain points. Finally, we will develop a detailed content outline, including an introduction, key points, and a call to action.\n",
            "\n",
            "Target Audience:\n",
            "\n",
            "Our target audience is professionals in various industries, including healthcare, finance, and technology. They are interested in learning about the latest trends and advancements in AI and how it can impact their respective industries. They are also concerned about the potential job displacement caused by AI and want to understand how they can adapt and thrive in this new era of work.\n",
            "\n",
            "Introduction:\n",
            "\n",
            "Artificial Intelligence (AI) is no longer a futuristic concept but a reality that is transforming various industries. AI refers to the development of computer systems that can perform tasks that typically require human intelligence, such as visual perception, speech recognition, decision-making, and language translation. In this article, we will explore the latest trends, key players, and noteworthy news in the AI industry. We will also discuss the potential impact of AI on the future of work and provide insights on how professionals can adapt and thrive in this new era of work.\n",
            "\n",
            "Key Points:\n",
            "\n",
            "1. Latest Trends:\n",
            "\n",
            "a. AI in Healthcare: AI is transforming the healthcare industry by enabling more accurate diagnoses, personalized treatments, and faster drug discovery. According to a report by Accenture, AI in healthcare could save the industry $150 billion annually by 2026.\n",
            "\n",
            "b. AI in Finance: AI is revolutionizing the finance industry by enabling more accurate risk assessments, fraud detection, and personalized financial advice. According to a report by PwC, AI in finance could generate $140 billion in additional value annually by 2025.\n",
            "\n",
            "c. AI in Education: AI is transforming the education industry by enabling more personalized learning experiences, adaptive assessments, and intelligent tutoring systems. According to a report by MarketsandMarkets, the global AI in education market is expected to grow from $1.1 billion in 2020 to $4.2 billion by 2025.\n",
            "\n",
            "2. Key Players:\n",
            "\n",
            "a. Google: Google is a leading player in the AI industry, with its AI subsidiary, DeepMind, making significant advancements in areas such as healthcare, finance, and climate change.\n",
            "\n",
            "b. Amazon: Amazon is investing heavily in AI, with its AI subsidiary, Amazon Web Services (AWS), providing a wide range of AI services and tools to businesses and developers.\n",
            "\n",
            "c. Microsoft: Microsoft is also investing heavily in AI, with its AI subsidiary, Microsoft Azure, providing a wide range of AI services and tools to businesses and developers.\n",
            "\n",
            "3. Noteworthy News:\n",
            "\n",
            "a. Google's DeepMind achieves human-level performance in protein folding: In 2020, Google's DeepMind achieved a significant breakthrough in the field of protein folding, which is essential for understanding diseases such as Alzheimer's and cancer.\n",
            "\n",
            "b. Amazon's Alexa learns to understand sarcasm: In 2020, Amazon's Alexa learned to understand sarcasm, which is a significant breakthrough in the field of natural language processing.\n",
            "\n",
            "c. Microsoft's AI system can predict COVID-19 patients' risk of death: In 2020, Microsoft's AI system learned to predict COVID-19 patients' risk of death, which could help healthcare professionals provide more personalized and effective treatments.\n",
            "\n",
            "Call to Action:\n",
            "\n",
            "As AI continues to transform various industries, it is essential for professionals to adapt and thrive in this new era of work. Here are some insights on how professionals can do so:\n",
            "\n",
            "a. Learn about AI: Professionals should learn about AI and its potential impact on their respective industries. This will enable them to understand how AI can be used to improve their work and provide more value to their organizations.\n",
            "\n",
            "b. Collaborate with AI: Professionals should collaborate with AI to enhance their work and provide more value to their organizations. This will enable them to leverage the strengths of AI and their own human intelligence to achieve better outcomes.\n",
            "\n",
            "c. Adapt to AI: Professionals should adapt to AI by learning new skills and adopting new roles. This will enable them to remain relevant and valuable in their organizations as AI continues to transform various industries.\n",
            "\n",
            "Conclusion:\n",
            "\n",
            "In conclusion, AI is transforming various industries, from healthcare to finance, and is expected to have a significant impact on the future of work. Professionals should learn about AI, collaborate with AI, and adapt to AI to remain relevant and valuable in their organizations. As AI continues to transform various industries, it is essential for professionals to embrace this new era of work and leverage the strengths of AI and their own human intelligence to achieve better outcomes.\u001b[0m\n",
            "\n",
            "\u001b[1m> Finished chain.\u001b[0m\n",
            "\n",
            "\n",
            "\u001b[1m> Entering new CrewAgentExecutor chain...\u001b[0m\n",
            "\u001b[1m\u001b[92m [INFO]: Max RPM reached, waiting for next minute to start.\u001b[00m\n",
            "\u001b[32;1m\u001b[1;3mYou are Content Writer. You're working on a writing a new opinion piece about the topic: Artificial Intelligence. You base your writing on the work of the Content Planner, who provides an outline and relevant context about the topic. You follow the main objectives and direction of the outline, as provide by the Content Planner. You also provide objective and impartial insights and back them up with information provide by the Content Planner. You acknowledge in your opinion piece when your statements are opinions as opposed to objective statements.\n",
            "Your personal goal is: Write insightful and factually accurate opinion piece about the topic: Artificial IntelligenceTo give my best complete final answer to the task use the exact following format:\n",
            "\n",
            "Thought: I now can give a great answer\n",
            "Final Answer: my best complete final answer to the task.\n",
            "Your final answer must be the great and the most complete as possible, it must be outcome described.\n",
            "\n",
            "I MUST use these formats, my job depends on it!\n",
            "Current Task: 1. Use the content plan to craft a compelling blog post on Artificial Intelligence.\n",
            "2. Incorporate SEO keywords naturally.\n",
            "3. Sections/Subtitles are properly named in an engaging manner.\n",
            "4. Ensure the post is structured with an engaging introduction, insightful body, and a summarizing conclusion.\n",
            "5. Proofread for grammatical errors and alignment with the brand's voice.\n",
            "\n",
            "\n",
            "This is the expect criteria for your final answer: A well-written blog post in markdown format, ready for publication, each section should have 2 or 3 paragraphs. \n",
            " you MUST return the actual complete content as the final answer, not a summary.\n",
            "\n",
            "This is the context you're working with:\n",
            "As the world continues to evolve, so does technology. One of the most significant advancements in recent years is Artificial Intelligence (AI). AI is transforming various industries, from healthcare to finance, and is expected to have a significant impact on the future of work. In this blog article, we will explore the latest trends, key players, and noteworthy news in the AI industry. We will also identify our target audience, their interests, and pain points. Finally, we will develop a detailed content outline, including an introduction, key points, and a call to action.\n",
            "\n",
            "Target Audience:\n",
            "\n",
            "Our target audience is professionals in various industries, including healthcare, finance, and technology. They are interested in learning about the latest trends and advancements in AI and how it can impact their respective industries. They are also concerned about the potential job displacement caused by AI and want to understand how they can adapt and thrive in this new era of work.\n",
            "\n",
            "Introduction:\n",
            "\n",
            "Artificial Intelligence (AI) is no longer a futuristic concept but a reality that is transforming various industries. AI refers to the development of computer systems that can perform tasks that typically require human intelligence, such as visual perception, speech recognition, decision-making, and language translation. In this article, we will explore the latest trends, key players, and noteworthy news in the AI industry. We will also discuss the potential impact of AI on the future of work and provide insights on how professionals can adapt and thrive in this new era of work.\n",
            "\n",
            "Key Points:\n",
            "\n",
            "1. Latest Trends:\n",
            "\n",
            "a. AI in Healthcare: AI is transforming the healthcare industry by enabling more accurate diagnoses, personalized treatments, and faster drug discovery. According to a report by Accenture, AI in healthcare could save the industry $150 billion annually by 2026.\n",
            "\n",
            "b. AI in Finance: AI is revolutionizing the finance industry by enabling more accurate risk assessments, fraud detection, and personalized financial advice. According to a report by PwC, AI in finance could generate $140 billion in additional value annually by 2025.\n",
            "\n",
            "c. AI in Education: AI is transforming the education industry by enabling more personalized learning experiences, adaptive assessments, and intelligent tutoring systems. According to a report by MarketsandMarkets, the global AI in education market is expected to grow from $1.1 billion in 2020 to $4.2 billion by 2025.\n",
            "\n",
            "2. Key Players:\n",
            "\n",
            "a. Google: Google is a leading player in the AI industry, with its AI subsidiary, DeepMind, making significant advancements in areas such as healthcare, finance, and climate change.\n",
            "\n",
            "b. Amazon: Amazon is investing heavily in AI, with its AI subsidiary, Amazon Web Services (AWS), providing a wide range of AI services and tools to businesses and developers.\n",
            "\n",
            "c. Microsoft: Microsoft is also investing heavily in AI, with its AI subsidiary, Microsoft Azure, providing a wide range of AI services and tools to businesses and developers.\n",
            "\n",
            "3. Noteworthy News:\n",
            "\n",
            "a. Google's DeepMind achieves human-level performance in protein folding: In 2020, Google's DeepMind achieved a significant breakthrough in the field of protein folding, which is essential for understanding diseases such as Alzheimer's and cancer.\n",
            "\n",
            "b. Amazon's Alexa learns to understand sarcasm: In 2020, Amazon's Alexa learned to understand sarcasm, which is a significant breakthrough in the field of natural language processing.\n",
            "\n",
            "c. Microsoft's AI system can predict COVID-19 patients' risk of death: In 2020, Microsoft's AI system learned to predict COVID-19 patients' risk of death, which could help healthcare professionals provide more personalized and effective treatments.\n",
            "\n",
            "Call to Action:\n",
            "\n",
            "As AI continues to transform various industries, it is essential for professionals to adapt and thrive in this new era of work. Here are some insights on how professionals can do so:\n",
            "\n",
            "a. Learn about AI: Professionals should learn about AI and its potential impact on their respective industries. This will enable them to understand how AI can be used to improve their work and provide more value to their organizations.\n",
            "\n",
            "b. Collaborate with AI: Professionals should collaborate with AI to enhance their work and provide more value to their organizations. This will enable them to leverage the strengths of AI and their own human intelligence to achieve better outcomes.\n",
            "\n",
            "c. Adapt to AI: Professionals should adapt to AI by learning new skills and adopting new roles. This will enable them to remain relevant and valuable in their organizations as AI continues to transform various industries.\n",
            "\n",
            "Conclusion:\n",
            "\n",
            "In conclusion, AI is transforming various industries, from healthcare to finance, and is expected to have a significant impact on the future of work. Professionals should learn about AI, collaborate with AI, and adapt to AI to remain relevant and valuable in their organizations. As AI continues to transform various industries, it is essential for professionals to embrace this new era of work and leverage the strengths of AI and their own human intelligence to achieve better outcomes.\n",
            "\n",
            "Begin! This is VERY important to you, use the tools available and give your best Final Answer, your job depends on it!\n",
            "\n",
            "Thought: \n",
            "\n",
            "I now can give a great answer\n",
            "\n",
            "Final Answer:\n",
            "\n",
            "Artificial Intelligence (AI) is no longer a futuristic concept but a reality that is transforming various industries. AI refers to the development of computer systems that can perform tasks that typically require human intelligence, such as visual perception, speech recognition, decision-making, and language translation. In this article, we will explore the latest trends, key players, and noteworthy news in the AI industry. We will also discuss the potential impact of AI on the future of work and provide insights on how professionals can adapt and thrive in this new era of work.\n",
            "\n",
            "Latest Trends:\n",
            "\n",
            "a. AI in Healthcare: AI is transforming the healthcare industry by enabling more accurate diagnoses, personalized treatments, and faster drug discovery. According to a report by Accenture, AI in healthcare could save the industry $150 billion annually by 2026.\n",
            "\n",
            "b. AI in Finance: AI is revolutionizing the finance industry by enabling more accurate risk assessments, fraud detection, and personalized financial advice. According to a report by PwC, AI in finance could generate $140 billion in additional value annually by 2025.\n",
            "\n",
            "c. AI in Education: AI is transforming the education industry by enabling more personalized learning experiences, adaptive assessments, and intelligent tutoring systems. According to a report by MarketsandMarkets, the global AI in education market is expected to grow from $1.1 billion in 2020 to $4.2 billion by 2025.\n",
            "\n",
            "Key Players:\n",
            "\n",
            "a. Google: Google is a leading player in the AI industry, with its AI subsidiary, DeepMind, making significant advancements in areas such as healthcare, finance, and climate change.\n",
            "\n",
            "b. Amazon: Amazon is investing heavily in AI, with its AI subsidiary, Amazon Web Services (AWS), providing a wide range of AI services and tools to businesses and developers.\n",
            "\n",
            "c. Microsoft: Microsoft is also investing heavily in AI, with its AI subsidiary, Microsoft Azure, providing a wide range of AI services and tools to businesses and developers.\n",
            "\n",
            "Noteworthy News:\n",
            "\n",
            "a. Google's DeepMind achieves human-level performance in protein folding: In 2020, Google's DeepMind achieved a significant breakthrough in the field of protein folding, which is essential for understanding diseases such as Alzheimer's and cancer.\n",
            "\n",
            "b. Amazon's Alexa learns to understand sarcasm: In 2020, Amazon's Alexa learned to understand sarcasm, which is a significant breakthrough in the field of natural language processing.\n",
            "\n",
            "c. Microsoft's AI system can predict COVID-19 patients' risk of death: In 2020, Microsoft's AI system learned to predict COVID-19 patients' risk of death, which could help healthcare professionals provide more personalized and effective treatments.\n",
            "\n",
            "Call to Action:\n",
            "\n",
            "As AI continues to transform various industries, it is essential for professionals to adapt and thrive in this new era of work. Here are some insights on how professionals can do so:\n",
            "\n",
            "a. Learn about AI: Professionals should learn about AI and its potential impact on their respective industries. This will enable them to understand how AI can be used to improve their work and provide more value to their organizations.\n",
            "\n",
            "b. Collaborate with AI: Professionals should collaborate with AI to enhance their work and provide more value to their organizations. This will enable them to leverage the strengths of AI and their own human intelligence to achieve better outcomes.\n",
            "\n",
            "c. Adapt to AI: Professionals should adapt to AI by learning new skills and adopting new roles. This will enable them to remain relevant and valuable in their organizations as AI continues to transform various industries.\n",
            "\n",
            "Conclusion:\n",
            "\n",
            "In conclusion, AI is transforming various industries, from healthcare to finance, and is expected to have a significant impact on the future of work. Professionals should learn about AI, collaborate with AI, and adapt to AI to remain relevant and valuable in their organizations. As AI continues to transform various industries, it is essential for professionals to embrace this new era of work and leverage the strengths of AI and their own human intelligence to achieve better outcomes.\n",
            "\n",
            "Begin! This is VERY important to you, use the tools available and give your best Final Answer, your job depends on it!\n",
            "\n",
            "Thought: \n",
            "\n",
            "I now can give a great answer\n",
            "\n",
            "Final Answer:\n",
            "\n",
            "Artificial Intelligence (AI) is revolutionizing various industries by enabling more accurate diagnoses, personalized treatments, and faster drug discovery in healthcare, more accurate risk assessments, fraud detection, and personalized financial advice in finance, and more personalized learning experiences, adaptive assessments, and intelligent tutoring systems in education. According to reports by Accenture, PwC, and MarketsandMarkets, AI is expected to save the healthcare industry $150 billion annually by 2026, generate $140 billion in additional value annually by 2025 in finance, and grow from $1.1 billion in 2020 to $4.2 billion by 2025 in education.\n",
            "\n",
            "Google, Amazon, and Microsoft are leading players in the AI industry, with their AI subsidiaries, DeepMind, AWS, and Azure, respectively, making significant advancements in healthcare, finance, and climate change. Noteworthy news in the AI industry includes Google's DeepMind achieving human-level performance in protein folding, Amazon's Alexa learning to understand sarcasm, and Microsoft's AI system predicting COVID-19 patients' risk of death.\n",
            "\n",
            "As AI continues to transform various industries, it is essential for professionals to adapt and thrive in this new era of work. Professionals should learn about AI, collaborate with AI, and adapt to AI by learning new skills and adopting new roles. By doing so, they can remain relevant and valuable in their organizations and leverage the strengths of AI and their own human intelligence to achieve better outcomes.\n",
            "\n",
            "In conclusion, AI is transforming various industries, and professionals should embrace this new era of work and leverage the strengths of AI and their own human intelligence to achieve better outcomes. As AI continues to transform various industries, it is essential for professionals to adapt and thrive in this new era of work.\u001b[0m\n",
            "\n",
            "\u001b[1m> Finished chain.\u001b[0m\n"
          ]
        }
      ]
    },
    {
      "cell_type": "code",
      "source": [
        "from IPython.display import Markdown\n",
        "Markdown(result)"
      ],
      "metadata": {
        "colab": {
          "base_uri": "https://localhost:8080/",
          "height": 277
        },
        "id": "MQ7I_PjPA1eY",
        "outputId": "ffebed0b-f9b8-4b06-c9bd-da35ca4e59ca"
      },
      "execution_count": null,
      "outputs": [
        {
          "output_type": "execute_result",
          "data": {
            "text/plain": [
              "<IPython.core.display.Markdown object>"
            ],
            "text/markdown": "Artificial Intelligence (AI) is revolutionizing various industries by enabling more accurate diagnoses, personalized treatments, and faster drug discovery in healthcare, more accurate risk assessments, fraud detection, and personalized financial advice in finance, and more personalized learning experiences, adaptive assessments, and intelligent tutoring systems in education. According to reports by Accenture, PwC, and MarketsandMarkets, AI is expected to save the healthcare industry $150 billion annually by 2026, generate $140 billion in additional value annually by 2025 in finance, and grow from $1.1 billion in 2020 to $4.2 billion by 2025 in education.\n\nGoogle, Amazon, and Microsoft are leading players in the AI industry, with their AI subsidiaries, DeepMind, AWS, and Azure, respectively, making significant advancements in healthcare, finance, and climate change. Noteworthy news in the AI industry includes Google's DeepMind achieving human-level performance in protein folding, Amazon's Alexa learning to understand sarcasm, and Microsoft's AI system predicting COVID-19 patients' risk of death.\n\nAs AI continues to transform various industries, it is essential for professionals to adapt and thrive in this new era of work. Professionals should learn about AI, collaborate with AI, and adapt to AI by learning new skills and adopting new roles. By doing so, they can remain relevant and valuable in their organizations and leverage the strengths of AI and their own human intelligence to achieve better outcomes.\n\nIn conclusion, AI is transforming various industries, and professionals should embrace this new era of work and leverage the strengths of AI and their own human intelligence to achieve better outcomes. As AI continues to transform various industries, it is essential for professionals to adapt and thrive in this new era of work."
          },
          "metadata": {},
          "execution_count": 35
        }
      ]
    }
  ]
}